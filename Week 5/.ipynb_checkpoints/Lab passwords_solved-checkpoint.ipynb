{
 "cells": [
  {
   "cell_type": "markdown",
   "metadata": {},
   "source": [
    "# Password Authentication Using Python"
   ]
  },
  {
   "cell_type": "markdown",
   "metadata": {},
   "source": [
    "In this lab activity, you will explore the logic of how Unix-based systems generate secure passwords by using the Python programming language."
   ]
  },
  {
   "cell_type": "markdown",
   "metadata": {},
   "source": [
    "# Importing the Necessary Modules"
   ]
  },
  {
   "cell_type": "markdown",
   "metadata": {},
   "source": [
    "To do this activity, you need to have the following python modules installed in your computer:\n",
    "\n",
    "* passlib\n",
    "\n",
    "Remember that you can use the command \"!pip install ...\" to install these modules."
   ]
  },
  {
   "cell_type": "code",
   "execution_count": 1,
   "metadata": {},
   "outputs": [
    {
     "name": "stdout",
     "output_type": "stream",
     "text": [
      "Requirement already satisfied: passlib in c:\\programdata\\anaconda3\\lib\\site-packages (1.7.1)\n"
     ]
    }
   ],
   "source": [
    "!pip install passlib"
   ]
  },
  {
   "cell_type": "markdown",
   "metadata": {},
   "source": [
    "Now import the installed module."
   ]
  },
  {
   "cell_type": "code",
   "execution_count": 2,
   "metadata": {
    "collapsed": true
   },
   "outputs": [],
   "source": [
    "import passlib"
   ]
  },
  {
   "cell_type": "markdown",
   "metadata": {},
   "source": [
    "# Creating a Unix Password"
   ]
  },
  {
   "cell_type": "markdown",
   "metadata": {},
   "source": [
    "The **passlib.hash** module contains all the password hash algoriths that have been used in the history of UNIX systems, such as DES, MD5 and SHA-256. To use them, ypu only have to import the hashing function and use it with the correct parameters.\n",
    "\n",
    "If you want to find out more about the currently active and inactive hashes in UNIX, check the following link: https://passlib.readthedocs.io/en/stable/lib/passlib.hash.html"
   ]
  },
  {
   "cell_type": "markdown",
   "metadata": {},
   "source": [
    "## DES"
   ]
  },
  {
   "cell_type": "markdown",
   "metadata": {},
   "source": [
    "First, we wil test the classical DES hashing function. To do so, you need to import from the **passlib.hash** module the function called **des_crypt**:\n",
    "\n",
    "* from passlib.hash import des_crypt\n",
    "\n",
    "Afterwards, you can call the hashing function by performing the following command:\n",
    "\n",
    "* deshash1 = des_crypt.hash(**string**)"
   ]
  },
  {
   "cell_type": "code",
   "execution_count": 3,
   "metadata": {},
   "outputs": [
    {
     "data": {
      "text/plain": [
       "'NPLeNggxxTNnU'"
      ]
     },
     "execution_count": 3,
     "metadata": {},
     "output_type": "execute_result"
    }
   ],
   "source": [
    "## Use this cell to import the DES hashing function and hash the password \"a\". Store the result in variable 'deshash1'\n",
    "## and print your result.\n",
    "from passlib.hash import des_crypt\n",
    "deshash1 = des_crypt.hash('a')\n",
    "deshash1"
   ]
  },
  {
   "cell_type": "markdown",
   "metadata": {},
   "source": [
    "Notice that if you call the function again to hash the same password, the output will be different"
   ]
  },
  {
   "cell_type": "code",
   "execution_count": 4,
   "metadata": {},
   "outputs": [
    {
     "data": {
      "text/plain": [
       "'pUxuat68NtMdE'"
      ]
     },
     "execution_count": 4,
     "metadata": {},
     "output_type": "execute_result"
    }
   ],
   "source": [
    "## Use this cell to call the DES hashing function to hash password \"a\". Store the result in variable 'deshash2'\n",
    "## and print your result.\n",
    "deshash2 = des_crypt.hash('a')\n",
    "deshash2"
   ]
  },
  {
   "cell_type": "markdown",
   "metadata": {},
   "source": [
    "This is due to the fact that the algorithm has added **salt** and thus, it generates a different hash every time. You can specify the salt used by adding the salt keyword to the function as follows:\n",
    "\n",
    "* deshash3 = des_crypt.hash('abc', salt=**string with two characters**)\n",
    "\n",
    "Where the two characters used can be numbers 0-9, letters a-z, letters A-Z and special characters ./\n",
    "\n",
    "In practice, it is better **NOT** to specify the salt, because the aim is to obtain a random hash."
   ]
  },
  {
   "cell_type": "code",
   "execution_count": 5,
   "metadata": {},
   "outputs": [
    {
     "data": {
      "text/plain": [
       "'0884v.jRPyncg'"
      ]
     },
     "execution_count": 5,
     "metadata": {},
     "output_type": "execute_result"
    }
   ],
   "source": [
    "## Use this cell to call the DES hashing function to hash password \"a\" with the hash \"08\".\n",
    "## Store the result in variable 'deshash3' and print your result.\n",
    "deshash3 = des_crypt.hash('a', salt='08')\n",
    "deshash3"
   ]
  },
  {
   "cell_type": "markdown",
   "metadata": {},
   "source": [
    "You should obtain the hash **0884v.jRPyncg**. Notice that although salt was added, all passwords have the same length:"
   ]
  },
  {
   "cell_type": "code",
   "execution_count": 6,
   "metadata": {},
   "outputs": [
    {
     "name": "stdout",
     "output_type": "stream",
     "text": [
      "Size of deshash1: 13\n",
      "Size of deshash2: 13\n",
      "Size of deshash3: 13\n"
     ]
    }
   ],
   "source": [
    "## Run this cell to print the length of the DES hashes\n",
    "print('Size of deshash1:', len(deshash1))\n",
    "print('Size of deshash2:', len(deshash2))\n",
    "print('Size of deshash3:', len(deshash3))"
   ]
  },
  {
   "cell_type": "markdown",
   "metadata": {},
   "source": [
    "### Verifying a password\n",
    "\n",
    "To validate an incoming password against your existing hashes, you can use the verify function.\n",
    "\n",
    "* des_crypt.verify(**incoming password**, **hashed password**)"
   ]
  },
  {
   "cell_type": "code",
   "execution_count": 7,
   "metadata": {},
   "outputs": [
    {
     "name": "stdout",
     "output_type": "stream",
     "text": [
      "True\n",
      "False\n"
     ]
    }
   ],
   "source": [
    "## Use this cell to verify different combinations of passwords against your three hashes.\n",
    "print(des_crypt.verify('a', deshash1))\n",
    "print(des_crypt.verify('ab', deshash3))"
   ]
  },
  {
   "cell_type": "markdown",
   "metadata": {},
   "source": [
    "### Why  is DES considered insecure?"
   ]
  },
  {
   "cell_type": "markdown",
   "metadata": {},
   "source": [
    "DES is no longer considered secure, for a variety of reasons:\n",
    "\n",
    "* Its use of the DES stream cipher, which is vulnerable to practical pre-image attacks, and considered broken, as well as having too-small key and block sizes.\n",
    "* The 12-bit salt is considered to small to defeat rainbow-table attacks (most modern algorithms provide at least a 48-bit salt).\n",
    "* The fact that it only uses the lower 7 bits of the first 8 bytes of the password results in a dangerously small keyspace which needs to be searched.\n",
    "\n",
    "Source: https://passlib.readthedocs.io/en/stable/lib/passlib.hash.des_crypt.html"
   ]
  },
  {
   "cell_type": "markdown",
   "metadata": {},
   "source": [
    "## Other hashing functions"
   ]
  },
  {
   "cell_type": "markdown",
   "metadata": {},
   "source": [
    "### MD5\n",
    "\n",
    "MD5 is more secure than DES and contains an option to specify the size of the salt. This is required by some standards such as Cisco compatible hashes, which require a salt size of four."
   ]
  },
  {
   "cell_type": "code",
   "execution_count": 8,
   "metadata": {},
   "outputs": [
    {
     "data": {
      "text/plain": [
       "'$1$UfGG$bTxxs6BbCY3LL.0xHzDms1'"
      ]
     },
     "execution_count": 8,
     "metadata": {},
     "output_type": "execute_result"
    }
   ],
   "source": [
    "## Run this cell to generate the MD5 hash of password 'a' with a salt size of four\n",
    "from passlib.hash import md5_crypt\n",
    "md5hash = md5_crypt.hash(\"a\", salt_size = 4)\n",
    "md5hash"
   ]
  },
  {
   "cell_type": "markdown",
   "metadata": {},
   "source": [
    "This hash appears to be more secure than the DES ones!"
   ]
  },
  {
   "cell_type": "markdown",
   "metadata": {},
   "source": [
    "### Why is MD5 considered insecure?\n",
    "\n",
    "* It relies on the MD5 message digest, for which theoretical pre-image attacks exist.\n",
    "* Its fixed number of rounds (combined with the availability of high-throughput MD5 implementations) means this algorithm is increasingly vulnerable to brute force attacks. \n",
    "\n",
    "Source: https://passlib.readthedocs.io/en/stable/lib/passlib.hash.md5_crypt.html"
   ]
  },
  {
   "cell_type": "markdown",
   "metadata": {},
   "source": [
    "## SHA-256"
   ]
  },
  {
   "cell_type": "markdown",
   "metadata": {},
   "source": [
    "This algorithm includes fixes and advancements such as number of rounds and the use of cryptographic primitives, which are low level functions that further secure the password. In this case, the salt can be from 0 to 16 characters long."
   ]
  },
  {
   "cell_type": "code",
   "execution_count": 9,
   "metadata": {},
   "outputs": [
    {
     "name": "stdout",
     "output_type": "stream",
     "text": [
      "$5$rounds=535000$kQmDk805NPruXtZ9$o8Krd33cusgqFF7hia5rBudWriaxy4D1LPbQaw2r8I7\n",
      "$5$rounds=12345$znuWLT7zJBf2TuJI$VoiTMp6cpIe3OYvgTHGolQdwwU4oUbHrQZzIq9ZFJW8\n",
      "$5$rounds=535000$08$VYkpN7VWeleEgTXfcmOqffeeTmVk38mH.tIrIg9s6yA\n"
     ]
    }
   ],
   "source": [
    "## Run this cell to generate three hashes of password 'a'\n",
    "from passlib.hash import sha256_crypt\n",
    "\n",
    "# Regular hash\n",
    "shahash1 = sha256_crypt.hash(\"a\")\n",
    "print(shahash1)\n",
    "\n",
    "# Same, but with explict number of rounds\n",
    "shahash2 = sha256_crypt.using(rounds=12345).hash(\"a\")\n",
    "print(shahash2)\n",
    "\n",
    "# Same, but with explict salt\n",
    "shahash3 = sha256_crypt.hash(\"a\", salt = '08')\n",
    "print(shahash3)"
   ]
  },
  {
   "cell_type": "markdown",
   "metadata": {},
   "source": [
    "Notice that the hash specifies that SHA256 has been used (indicated by the 5) and the number of rounds used. Moreover, the size of the hashes will vary according to the size and rounds used."
   ]
  },
  {
   "cell_type": "code",
   "execution_count": 10,
   "metadata": {},
   "outputs": [
    {
     "name": "stdout",
     "output_type": "stream",
     "text": [
      "Size of shahash1: 77\n",
      "Size of shahash2: 76\n",
      "Size of shahash3: 63\n"
     ]
    }
   ],
   "source": [
    "## Run this cell to print the length of the SHA-256 hashes\n",
    "print('Size of shahash1:', len(shahash1))\n",
    "print('Size of shahash2:', len(shahash2))\n",
    "print('Size of shahash3:', len(shahash3))"
   ]
  },
  {
   "cell_type": "markdown",
   "metadata": {},
   "source": [
    "### Why is SHA-256 considered insecured?\n",
    "\n",
    "Even SHA256 has some security issues:\n",
    "\n",
    "* The algorithm’s initialization stage contains a loop which varies linearly with the square of the password size; and further loops, which vary linearly as $password size * rounds$.\n",
    "* This means an attacker could provide a maliciously large password at the login screen to attempt a DOS on a publically visible login. For example, a 32kb password would require hashing 1Gb of data. Passlib mitigates this by limiting the maximum password size to 4k by default.\n",
    "* An attacker could also theoretically determine a password’s size by observing the time taken on a successful login, and then attempting verification themselves to find the size password which has an equivalent delay. This has not been applied in practice, probably due to the fact that (for normal passwords < 64 bytes), the contribution of the password size to the overall time taken is below the observable noise level when evesdropping on the timings of successful logins for a single user.\n",
    "\n",
    "Source: https://passlib.readthedocs.io/en/stable/lib/passlib.hash.sha256_crypt.html"
   ]
  },
  {
   "cell_type": "markdown",
   "metadata": {},
   "source": [
    "## Cracking DES hashes\n",
    "\n",
    "A very intuitive way to crack a hash is by doing a **brute force attack**. This would consist mainly in exhaustively trying combinations of passwords and salts until a match is achieved.\n",
    "\n",
    "To implement a brute force attack for one-character long passwords, you can use the following code:"
   ]
  },
  {
   "cell_type": "code",
   "execution_count": 11,
   "metadata": {},
   "outputs": [
    {
     "name": "stdout",
     "output_type": "stream",
     "text": [
      "The password is: a\n",
      "The salt is: 08\n",
      "Elapsed time to break the hash:  0.5593645572662354\n"
     ]
    }
   ],
   "source": [
    "## This is a function that performs a brute force attack on DES hashe with salt (i.e. deshash3)\n",
    "## In this scenario, you have the advantage of knowing that the password to break is one character long.\n",
    "## Moreover, we will use the time module to calculate the time that the machine takes to crack the hash.\n",
    "import time\n",
    "\n",
    "# 1. Declare strings \"list_of_saltchars\" and \"list_of_passchars\" (2 lines)\n",
    "list_of_saltchars = \"0123456789abcdefghijklmnopqrstuvwxyzABCDEFGHIJKLMNOPQRSTUVWXYZ./\"\n",
    "list_of_passchars = \"0123456789abcdefghijklmnopqrstuvwxyzABCDEFGHIJKLMNOPQRSTUVWXYZ./\\-+%@,*\"\n",
    "def bruteForce(hashtobreak):\n",
    "# 2. Iterate the list of salt chars using two fors so that you can test all possible salt combinations\n",
    "    for i in list_of_saltchars:\n",
    "        for j in list_of_saltchars:\n",
    "            salt = i+j\n",
    "            # 3. For all characters in list_of_passchars, hash with the salt\n",
    "            for k in list_of_passchars:\n",
    "                attempt = des_crypt.hash(k, salt=salt)\n",
    "                # 4. If there is a match, exit and return the charcter\n",
    "                if attempt == hashtobreak:\n",
    "                    # 5. Return the broken password and the broken salt\n",
    "                    return k, salt\n",
    "     \n",
    "t = time.time()\n",
    "brokenhash, brokensalt = bruteForce(deshash3)\n",
    "print('The password is:', brokenhash)\n",
    "print('The salt is:', brokensalt)\n",
    "print('Elapsed time to break the hash: ', time.time() - t)"
   ]
  },
  {
   "cell_type": "markdown",
   "metadata": {},
   "source": [
    "In a Windows 10 machine with 16 GB RAM, it takes around 0.55 seconds to break the password. "
   ]
  },
  {
   "cell_type": "markdown",
   "metadata": {},
   "source": [
    "**TASK**: Modify the code to be able to crack hashes created with passwords more than one character long."
   ]
  },
  {
   "cell_type": "code",
   "execution_count": 12,
   "metadata": {},
   "outputs": [
    {
     "name": "stdout",
     "output_type": "stream",
     "text": [
      "The password is: 0\n",
      "The salt is: 00\n",
      "Elapsed time to break the hash:  0.002001047134399414\n",
      "The password is: 00\n",
      "The salt is: 00\n",
      "Elapsed time to break the hash:  0.07004237174987793\n",
      "The password is: 000\n",
      "The salt is: 00\n",
      "Elapsed time to break the hash:  4.823193311691284\n",
      "The password is: 0000\n",
      "The salt is: 00\n",
      "Elapsed time to break the hash:  347.9849593639374\n"
     ]
    }
   ],
   "source": [
    "# Use this cell to write your improved code\n",
    "import time\n",
    "\n",
    "# 1. Declare strings \"list_of_saltchars\" and \"list_of_passchars\" (2 lines)\n",
    "list_of_saltchars = \"0123456789abcdefghijklmnopqrstuvwxyzABCDEFGHIJKLMNOPQRSTUVWXYZ./\"\n",
    "list_of_passchars = \"0123456789abcdefghijklmnopqrstuvwxyzABCDEFGHIJKLMNOPQRSTUVWXYZ./\\-+%@,*\"\n",
    "def bruteForce(hashtobreak):\n",
    "# 2. Iterate the list of salt chars using two fors so that you can test all possible salt combinations\n",
    "    for i in list_of_saltchars:\n",
    "        for j in list_of_saltchars:\n",
    "            salt = i+j\n",
    "            # 3. For all characters in list_of_passchars, create a password by combining characters\n",
    "            password_size = 0\n",
    "            while True: # This while increments the size of the password indefinitely\n",
    "                password_size+=1\n",
    "                indexes = [0]*password_size # create a list to store the indexes to point\n",
    "                while sum(indexes)<(len(list_of_passchars)-1)*password_size:\n",
    "                    k = ''\n",
    "                    for a in indexes: # This for creates the password based on the values from the list indexes\n",
    "                        k = k + list_of_passchars[a]\n",
    "                    attempt = des_crypt.hash(k, salt=salt)\n",
    "                    if attempt == hashtobreak:\n",
    "                        return k, salt\n",
    "                    # Increment the password vector\n",
    "                    flag = False\n",
    "                    for b, a in enumerate(indexes):\n",
    "                        if a<len(list_of_passchars)-1 and flag == False:\n",
    "                            indexes[b]+=1\n",
    "                            if b>0:\n",
    "                                for c in range(len(indexes[:b])):\n",
    "                                    indexes[c]=0\n",
    "                            flag = True\n",
    "            k = ''\n",
    "            for a in indexes: # This for creates the password based on the values from the list indexes\n",
    "                k = k + list_of_passchars[a]\n",
    "            attempt = des_crypt.hash(k, salt=salt)\n",
    "            if attempt == hashtobreak:\n",
    "                return k, salt\n",
    "\n",
    "###### 1-DIGIT PASSWORD\n",
    "t = time.time()\n",
    "## hash a new password\n",
    "deshash4 = des_crypt.hash('0', salt='00')\n",
    "## crack the password\n",
    "brokenhash, brokensalt = bruteForce(deshash4)\n",
    "print('The password is:', brokenhash)\n",
    "print('The salt is:', brokensalt)\n",
    "print('Elapsed time to break the hash: ', time.time() - t)\n",
    "\n",
    "###### 2-DIGIT PASSWORD\n",
    "t = time.time()\n",
    "## hash a new password\n",
    "deshash4 = des_crypt.hash('00', salt='00')\n",
    "## crack the password\n",
    "brokenhash, brokensalt = bruteForce(deshash4)\n",
    "print('The password is:', brokenhash)\n",
    "print('The salt is:', brokensalt)\n",
    "print('Elapsed time to break the hash: ', time.time() - t)\n",
    "\n",
    "###### 3-DIGIT PASSWORD\n",
    "t = time.time()\n",
    "## hash a new password\n",
    "deshash4 = des_crypt.hash('000', salt='00')\n",
    "## crack the password\n",
    "brokenhash, brokensalt = bruteForce(deshash4)\n",
    "print('The password is:', brokenhash)\n",
    "print('The salt is:', brokensalt)\n",
    "print('Elapsed time to break the hash: ', time.time() - t)\n",
    "\n",
    "###### 4-DIGIT PASSWORD\n",
    "t = time.time()\n",
    "## hash a new password\n",
    "deshash4 = des_crypt.hash('0000', salt='00')\n",
    "## crack the password\n",
    "brokenhash, brokensalt = bruteForce(deshash4)\n",
    "print('The password is:', brokenhash)\n",
    "print('The salt is:', brokensalt)\n",
    "print('Elapsed time to break the hash: ', time.time() - t)"
   ]
  },
  {
   "cell_type": "markdown",
   "metadata": {},
   "source": [
    "You can see there is a vast difference in time, particularly between cracking a 3-digit and a 4-digit password."
   ]
  }
 ],
 "metadata": {
  "kernelspec": {
   "display_name": "Python 3",
   "language": "python",
   "name": "python3"
  },
  "language_info": {
   "codemirror_mode": {
    "name": "ipython",
    "version": 3
   },
   "file_extension": ".py",
   "mimetype": "text/x-python",
   "name": "python",
   "nbconvert_exporter": "python",
   "pygments_lexer": "ipython3",
   "version": "3.6.0"
  }
 },
 "nbformat": 4,
 "nbformat_minor": 2
}
