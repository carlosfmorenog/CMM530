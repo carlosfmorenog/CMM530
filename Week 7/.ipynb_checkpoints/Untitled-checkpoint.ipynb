{
 "cells": [
  {
   "cell_type": "markdown",
   "metadata": {},
   "source": [
    "# Malware in Python"
   ]
  },
  {
   "cell_type": "markdown",
   "metadata": {},
   "source": [
    "In this laboratory, we will learn how to create malware using Python. Moreover, you will be encouraged to implement this code in your virtual machine setting so that you can further exploit the vulnerabilities of an operating system."
   ]
  },
  {
   "cell_type": "markdown",
   "metadata": {},
   "source": [
    "## Basic Requirements"
   ]
  },
  {
   "cell_type": "markdown",
   "metadata": {},
   "source": [
    "For this activity, you are required to install the $os$ python module (using !pip install os) in case you don't already have it, and to download the following files:\n",
    "* $victim1.py$. This is the code that cracks a hashed password using a brute force approach (Week 5 - Lab passwords). Save it in the same directory that you are using for this notebook.\n",
    "* $victim2.py$. This is the code that matches two fingerprints (Week 5 - Lab fingerprint) using images $101\\_1.tif$ and $101\\_2.tif$. Dowload these three files and save them in a subdirectory of the directory where this notebook is saved (you can use any name for the subdirectory)."
   ]
  },
  {
   "cell_type": "markdown",
   "metadata": {},
   "source": [
    "## Python Malware 101"
   ]
  },
  {
   "cell_type": "markdown",
   "metadata": {},
   "source": [
    "As we have seen in the lecture, one of the main characteristics of a malware is to insert inself into a system (usually in a secert way) with the intent of compromising a program or the whole system. In this laboratory activity, we will design a simple code in Python which will replicate itself into other $.py$ files."
   ]
  },
  {
   "cell_type": "markdown",
   "metadata": {},
   "source": [
    "### Search for .py files"
   ]
  },
  {
   "cell_type": "markdown",
   "metadata": {},
   "source": [
    "**STEP 1**: We will implement a function called $search$ which will be in charge of exploring a directory and its subdirectories to find all $.py$ files. To do so, first you need to create an empty list called $filestoinfect$ where you will store the names of the $.py$ files that will be infected. Then, you need to extract the list of files and subdirectories that are located in the current directory. To do so, you can use the command $filelist = os.listdir(path)$, where $path$ is the current directory."
   ]
  },
  {
   "cell_type": "markdown",
   "metadata": {},
   "source": [
    "**HINT**: To get the current directory, you can use the command $os.path.abspath(\"\")$."
   ]
  },
  {
   "cell_type": "code",
   "execution_count": null,
   "metadata": {},
   "outputs": [],
   "source": [
    "## Use this cell to 1) import the os module, 2) define \"filestoinfect\" as an empty list,\n",
    "## 3) find the list of files/subdirectories in the current directory and save them in variable \"filelist\" and \n",
    "## 4) print filelist.\n",
    "import os\n",
    "filestoinfect = []\n",
    "filelist = os.listdir(os.path.abspath(\"\"))\n",
    "filelist"
   ]
  },
  {
   "cell_type": "markdown",
   "metadata": {},
   "source": [
    "If you did the instructions correctly, you should see as output a list of files in your current directory, including $victim1.py$ and this notebook."
   ]
  },
  {
   "cell_type": "markdown",
   "metadata": {},
   "source": [
    "**STEP 2**: Using a for loop, iterate $filelist$ to see which files have the $.py$ extension."
   ]
  },
  {
   "cell_type": "markdown",
   "metadata": {},
   "source": [
    "**HINT**: When you iterate $filelist$ you are examining strings, therefore you can take advantage of the string data structure and check if the last 3 positins of any given string are the characters $.py$. Once you have found a string that ends in $.py$, remember to **add** the path of the current directory to the name of the file separated by the \"/\" character or the \"_\\_\\\" characters before appending to the list."
   ]
  },
  {
   "cell_type": "code",
   "execution_count": null,
   "metadata": {},
   "outputs": [],
   "source": [
    "## Use this cell to iterate filelist and find the .py files. If one is found, append it to \"filestoinfect\".\n",
    "## In the end, print \"filestoinfect\".\n",
    "for name in filelist:\n",
    "    if fname[-3:] == \".py\":\n",
    "        filestoinfect.append(os.path.abspath(\"\")+\"\\\\\"+fname)\n",
    "filestoinfect"
   ]
  },
  {
   "cell_type": "markdown",
   "metadata": {},
   "source": [
    "If done correctly, you should be able to see $victim1.py$ but **NOT** $victim2.py$. This is due to the fact that we have only explored the current directory, but not its subdirectories!"
   ]
  },
  {
   "cell_type": "markdown",
   "metadata": {},
   "source": [
    "**STEP 3**: Using a for loop, iterate once agin $filelist$ to **print** the names of the subdirectories."
   ]
  },
  {
   "cell_type": "markdown",
   "metadata": {},
   "source": [
    "**HINT**: You can use the command $os.path.isdir(name)$ to know if a certain $name$ in the filelist is a directory or not."
   ]
  },
  {
   "cell_type": "code",
   "execution_count": null,
   "metadata": {},
   "outputs": [],
   "source": [
    "## Use this cell to iterate filelist and print the subdirectories.\n",
    "for name in filelist:\n",
    "        if os.path.isdir(fname):\n",
    "            print(fname)"
   ]
  },
  {
   "cell_type": "markdown",
   "metadata": {},
   "source": [
    "If you have done this step correctly, then you will print the subdirectories of your current directory, including the one where $victim2.py$ is stored and a folder called $.ipynb\\_checkpoints$, which is autogenerated by Jupyter Notebook."
   ]
  },
  {
   "cell_type": "markdown",
   "metadata": {},
   "source": [
    "**STEP 4**: Now that we have all these elements, we will construct the $search$ function. This function will take a $path$ as an input and will return the list of files to infect."
   ]
  },
  {
   "cell_type": "code",
   "execution_count": null,
   "metadata": {},
   "outputs": [],
   "source": [
    "## Use this cell to implement the search function.\n",
    "import os\n",
    "def search(path):\n",
    "    # 1. Define \"filestoinfect\" as an empty list.\n",
    "    filestoinfect = []\n",
    "    # 2. Find the list of files/subdirectories in the specified path and save them in variable \"filelist\".\n",
    "    filelist = os.listdir(path)\n",
    "    # 3. for name in filelist:\n",
    "    for name in filelist:\n",
    "        # 3.a. Check if name is a subdirectory. If true, call again the search function in this subdirectory.\n",
    "        # HINT: To avoid reset filestoinfect when you call the function, use filestoinfect.extend(search(path+\"/\"+name))\n",
    "        if os.path.isdir(name):\n",
    "            filestoinfect.extend(search(path+\"/\"+name))\n",
    "        # 3.b. Else, if it is a .py file, append it to \"filestoinfect\"\n",
    "        elif name[-3:] == \".py\":\n",
    "            filestoinfect.append(path+\"/\"+name)\n",
    "    return filestoinfect\n",
    "\n",
    "## Use the search function in the current directory\n",
    "filestoinfect = search(os.path.abspath(\"\"))\n",
    "print(filestoinfect)"
   ]
  },
  {
   "cell_type": "markdown",
   "metadata": {},
   "source": [
    "If the function was implemented correctly, then you will be able to see both victim files."
   ]
  },
  {
   "cell_type": "markdown",
   "metadata": {},
   "source": [
    "### Infect .py files"
   ]
  },
  {
   "cell_type": "code",
   "execution_count": null,
   "metadata": {
    "collapsed": true
   },
   "outputs": [],
   "source": []
  }
 ],
 "metadata": {
  "kernelspec": {
   "display_name": "Python 3",
   "language": "python",
   "name": "python3"
  },
  "language_info": {
   "codemirror_mode": {
    "name": "ipython",
    "version": 3
   },
   "file_extension": ".py",
   "mimetype": "text/x-python",
   "name": "python",
   "nbconvert_exporter": "python",
   "pygments_lexer": "ipython3",
   "version": "3.6.0"
  }
 },
 "nbformat": 4,
 "nbformat_minor": 2
}
